{
 "cells": [
  {
   "cell_type": "markdown",
   "metadata": {},
   "source": [
    "In this we mill make the movies recommendation sysytem using the cosine similarity"
   ]
  },
  {
   "cell_type": "code",
   "execution_count": 3,
   "metadata": {},
   "outputs": [],
   "source": [
    "import pandas as pd\n",
    "import numpy as np\n",
    "import difflib\n",
    "from sklearn.feature_extraction.text import TfidfVectorizer\n",
    "from sklearn.metrics.pairwise import cosine_similarity\n",
    "\n",
    "data = pd.read_csv('data/movies.csv')\n",
    "data.head()\n",
    "data.shape\n",
    "selected_fratured = ['genres','keywords','tagline','cast','director']\n"
   ]
  },
  {
   "cell_type": "code",
   "execution_count": 15,
   "metadata": {},
   "outputs": [],
   "source": [
    "# this is the loop through parts\n",
    "for features in selected_fratured:\n",
    "    data[features] = data[features].fillna('')"
   ]
  },
  {
   "cell_type": "code",
   "execution_count": 34,
   "metadata": {},
   "outputs": [
    {
     "data": {
      "text/plain": [
       "0       Action Adventure Fantasy Science Fictioncultur...\n",
       "1       Adventure Fantasy Actionocean drug abuse exoti...\n",
       "2       Action Adventure Crimespy based on novel secre...\n",
       "3       Action Crime Drama Thrillerdc comics crime fig...\n",
       "4       Action Adventure Science Fictionbased on novel...\n",
       "                              ...                        \n",
       "4798    Action Crime Thrillerunited states\\u2013mexico...\n",
       "4799    Comedy RomanceA newlywed couple's honeymoon is...\n",
       "4800    Comedy Drama Romance TV Moviedate love at firs...\n",
       "4801    A New Yorker in ShanghaiDaniel Henney Eliza Co...\n",
       "4802    Documentaryobsession camcorder crush dream gir...\n",
       "Length: 4803, dtype: object"
      ]
     },
     "execution_count": 34,
     "metadata": {},
     "output_type": "execute_result"
    }
   ],
   "source": [
    "#combine all the 5 coulmns\n",
    "\n",
    "combined_columns = data['genres'] + data['keywords'] + data['tagline'] + data['cast'] + data['director']\n",
    "\n",
    "combined_columns"
   ]
  },
  {
   "cell_type": "code",
   "execution_count": 36,
   "metadata": {},
   "outputs": [],
   "source": [
    "#converting the text data into featured vectors\n",
    "vectorizer = TfidfVectorizer()"
   ]
  },
  {
   "cell_type": "code",
   "execution_count": 39,
   "metadata": {},
   "outputs": [
    {
     "name": "stdout",
     "output_type": "stream",
     "text": [
      "  (0, 3583)\t0.16941894714909375\n",
      "  (0, 20729)\t0.2738578969459924\n",
      "  (0, 16614)\t0.15696073877453268\n",
      "  (0, 14550)\t0.2236809363648068\n",
      "  (0, 23267)\t0.16128139780622516\n",
      "  (0, 26547)\t0.19638671147741732\n",
      "  (0, 22464)\t0.20207089568711745\n",
      "  (0, 21487)\t0.21550128478931546\n",
      "  (0, 27540)\t0.19771357974524176\n",
      "  (0, 27182)\t0.23480088356130552\n",
      "  (0, 21521)\t0.1562356665943368\n",
      "  (0, 18558)\t0.2612168335104853\n",
      "  (0, 18164)\t0.08690831799482265\n",
      "  (0, 27161)\t0.1261988657937151\n",
      "  (0, 24197)\t0.07518543993419265\n",
      "  (0, 22778)\t0.2738578969459924\n",
      "  (0, 4676)\t0.2452909770424961\n",
      "  (0, 26334)\t0.13059723071916296\n",
      "  (0, 22916)\t0.33668756406929184\n",
      "  (0, 10193)\t0.16532432420812987\n",
      "  (0, 4456)\t0.21799675215510664\n",
      "  (0, 9304)\t0.2738578969459924\n",
      "  (0, 21836)\t0.09966592997173944\n",
      "  (0, 8936)\t0.11806131645084653\n",
      "  (0, 444)\t0.09109355212252294\n",
      "  :\t:\n",
      "  (4801, 5449)\t0.31510541707008866\n",
      "  (4801, 22170)\t0.31510541707008866\n",
      "  (4801, 27361)\t0.31510541707008866\n",
      "  (4801, 27513)\t0.3005604008026175\n",
      "  (4801, 8121)\t0.2611505149930138\n",
      "  (4801, 758)\t0.19369913462690624\n",
      "  (4801, 11776)\t0.3005604008026175\n",
      "  (4801, 18790)\t0.22450140828104795\n",
      "  (4801, 2511)\t0.16619755360453184\n",
      "  (4801, 17791)\t0.15702571586793676\n",
      "  (4801, 12846)\t0.1232063996421506\n",
      "  (4802, 7770)\t0.28212235292045307\n",
      "  (4802, 11874)\t0.5642447058409061\n",
      "  (4802, 10640)\t0.28212235292045307\n",
      "  (4802, 6978)\t0.28212235292045307\n",
      "  (4802, 3569)\t0.2526933433912742\n",
      "  (4802, 9174)\t0.23381507827213685\n",
      "  (4802, 5847)\t0.2598601666162226\n",
      "  (4802, 11042)\t0.2245754361399493\n",
      "  (4802, 20664)\t0.1718311116708895\n",
      "  (4802, 2027)\t0.19514642661077047\n",
      "  (4802, 5354)\t0.2196244946235084\n",
      "  (4802, 8313)\t0.1713172199751922\n",
      "  (4802, 3128)\t0.17288424030654004\n",
      "  (4802, 7626)\t0.17686850692938538\n"
     ]
    }
   ],
   "source": [
    "featured_vectorizer = vectorizer.fit_transform(combined_columns)\n",
    "print(featured_vectorizer)"
   ]
  },
  {
   "cell_type": "markdown",
   "metadata": {},
   "source": [
    "Cosine Similarity"
   ]
  },
  {
   "cell_type": "code",
   "execution_count": 58,
   "metadata": {},
   "outputs": [
    {
     "data": {
      "text/plain": [
       "(4803, 4803)"
      ]
     },
     "execution_count": 58,
     "metadata": {},
     "output_type": "execute_result"
    }
   ],
   "source": [
    "#getting the similarity score using the cosine similarity\n",
    "similarity = cosine_similarity(featured_vectorizer)\n",
    "similarity.shape"
   ]
  },
  {
   "cell_type": "code",
   "execution_count": 1,
   "metadata": {},
   "outputs": [],
   "source": [
    "#getting the movie name from the user\n",
    "movies_name = input(\"Enter your favourite movie name\")"
   ]
  },
  {
   "cell_type": "code",
   "execution_count": 4,
   "metadata": {},
   "outputs": [
    {
     "data": {
      "text/plain": [
       "['The Blood of Heroes', 'The Theory of Everything', 'The Flowers of War']"
      ]
     },
     "execution_count": 4,
     "metadata": {},
     "output_type": "execute_result"
    }
   ],
   "source": [
    "#find the close mathc for the name enter by the user\n",
    "find_close_match = difflib.get_close_matches( movies_name,data.title)\n",
    "find_close_match"
   ]
  },
  {
   "cell_type": "code",
   "execution_count": null,
   "metadata": {},
   "outputs": [],
   "source": []
  }
 ],
 "metadata": {
  "kernelspec": {
   "display_name": "Python 3",
   "language": "python",
   "name": "python3"
  },
  "language_info": {
   "codemirror_mode": {
    "name": "ipython",
    "version": 3
   },
   "file_extension": ".py",
   "mimetype": "text/x-python",
   "name": "python",
   "nbconvert_exporter": "python",
   "pygments_lexer": "ipython3",
   "version": "3.11.1"
  }
 },
 "nbformat": 4,
 "nbformat_minor": 2
}
